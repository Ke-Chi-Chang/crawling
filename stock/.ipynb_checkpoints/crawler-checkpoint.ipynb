{
 "cells": [
  {
   "cell_type": "code",
   "execution_count": 40,
   "id": "3e1c3da9",
   "metadata": {},
   "outputs": [],
   "source": [
    "import requests\n",
    "from bs4 import BeautifulSoup\n",
    "import json\n",
    "import pandas as pd"
   ]
  },
  {
   "cell_type": "code",
   "execution_count": 12,
   "id": "e1c92082",
   "metadata": {},
   "outputs": [],
   "source": [
    "res = requests.get('https://www.twse.com.tw/zh/page/announcement/punish.html')"
   ]
  },
  {
   "cell_type": "code",
   "execution_count": 1,
   "id": "27050bb2",
   "metadata": {},
   "outputs": [
    {
     "ename": "SyntaxError",
     "evalue": "invalid syntax (<ipython-input-1-6f649c34c9f8>, line 8)",
     "output_type": "error",
     "traceback": [
      "\u001b[1;36m  File \u001b[1;32m\"<ipython-input-1-6f649c34c9f8>\"\u001b[1;36m, line \u001b[1;32m8\u001b[0m\n\u001b[1;33m    df = pd.read_json(res.text, orient ='index', ensure_ascii=False))\u001b[0m\n\u001b[1;37m                                                                    ^\u001b[0m\n\u001b[1;31mSyntaxError\u001b[0m\u001b[1;31m:\u001b[0m invalid syntax\n"
     ]
    }
   ],
   "source": [
    "res = requests.get('https://www.twse.com.tw/announcement/punish?response=json&startDate=&endDate=&stockNo=&sortKind=&querytype=&selectType=&proceType=&remarkType=&radioType=&_=1628090224776')\n",
    "# soup = BeautifulSoup(res.text)\n",
    "# print(soup.get_text())\n",
    "# print(soup.select('data'))\n",
    "txt = json.loads(res.text)\n",
    "# print(txt['creditTitle'])\n",
    "# print(txt['data'][0])\n",
    "df = pd.read_json(res.text, orient ='index')\n",
    "df"
   ]
  },
  {
   "cell_type": "code",
   "execution_count": 65,
   "id": "335d04de",
   "metadata": {},
   "outputs": [
    {
     "data": {
      "text/html": [
       "<div>\n",
       "<style scoped>\n",
       "    .dataframe tbody tr th:only-of-type {\n",
       "        vertical-align: middle;\n",
       "    }\n",
       "\n",
       "    .dataframe tbody tr th {\n",
       "        vertical-align: top;\n",
       "    }\n",
       "\n",
       "    .dataframe thead th {\n",
       "        text-align: right;\n",
       "    }\n",
       "</style>\n",
       "<table border=\"1\" class=\"dataframe\">\n",
       "  <thead>\n",
       "    <tr style=\"text-align: right;\">\n",
       "      <th></th>\n",
       "      <th>公布日期</th>\n",
       "      <th>證券代號</th>\n",
       "      <th>證券名稱</th>\n",
       "      <th>累計</th>\n",
       "      <th>處置條件</th>\n",
       "      <th>處置起迄時間</th>\n",
       "      <th>處置措施</th>\n",
       "    </tr>\n",
       "  </thead>\n",
       "  <tbody>\n",
       "    <tr>\n",
       "      <th>55</th>\n",
       "      <td>110/08/03</td>\n",
       "      <td>1783</td>\n",
       "      <td>和康生</td>\n",
       "      <td>1</td>\n",
       "      <td>連續三次</td>\n",
       "      <td>110/08/04～110/08/17</td>\n",
       "      <td>第一次處置</td>\n",
       "    </tr>\n",
       "    <tr>\n",
       "      <th>56</th>\n",
       "      <td>110/07/28</td>\n",
       "      <td>2609</td>\n",
       "      <td>陽明</td>\n",
       "      <td>1</td>\n",
       "      <td>連續三次</td>\n",
       "      <td>110/07/29～110/08/11</td>\n",
       "      <td>第二次處置</td>\n",
       "    </tr>\n",
       "    <tr>\n",
       "      <th>57</th>\n",
       "      <td>110/07/26</td>\n",
       "      <td>6226</td>\n",
       "      <td>光鼎</td>\n",
       "      <td>1</td>\n",
       "      <td>連續三次</td>\n",
       "      <td>110/07/27～110/08/09</td>\n",
       "      <td>第一次處置</td>\n",
       "    </tr>\n",
       "  </tbody>\n",
       "</table>\n",
       "</div>"
      ],
      "text/plain": [
       "         公布日期  證券代號 證券名稱  累計  處置條件               處置起迄時間   處置措施\n",
       "55  110/08/03  1783  和康生   1  連續三次  110/08/04～110/08/17  第一次處置\n",
       "56  110/07/28  2609   陽明   1  連續三次  110/07/29～110/08/11  第二次處置\n",
       "57  110/07/26  6226   光鼎   1  連續三次  110/07/27～110/08/09  第一次處置"
      ]
     },
     "execution_count": 65,
     "metadata": {},
     "output_type": "execute_result"
    }
   ],
   "source": [
    "lst = txt['data']\n",
    "df2 = pd.DataFrame(lst, columns =['編號','公布日期','證券代號','證券名稱','累計','處置條件','處置起迄時間','處置措施','處置內容'])\n",
    "del df2['處置內容']\n",
    "del df2['編號']\n",
    "df2.loc[df2['證券代號'].str.len() == 4]\n",
    "# df2"
   ]
  },
  {
   "cell_type": "code",
   "execution_count": null,
   "id": "147cb585",
   "metadata": {},
   "outputs": [],
   "source": []
  }
 ],
 "metadata": {
  "kernelspec": {
   "display_name": "Python 3",
   "language": "python",
   "name": "python3"
  },
  "language_info": {
   "codemirror_mode": {
    "name": "ipython",
    "version": 3
   },
   "file_extension": ".py",
   "mimetype": "text/x-python",
   "name": "python",
   "nbconvert_exporter": "python",
   "pygments_lexer": "ipython3",
   "version": "3.6.13"
  }
 },
 "nbformat": 4,
 "nbformat_minor": 5
}
